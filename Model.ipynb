{
 "cells": [
  {
   "cell_type": "markdown",
   "metadata": {},
   "source": [
    "# Creditworthiness model: design\n",
    "This model will be built upon LendingClub data to evaluate an individual's credit worthiness. The data contains rows of customers, with each column showing the features for loan applications that have been approved, together with outcomes of the loans (in the final column).  The outcomes show that each customer has either defaulted or completed their loan.\n",
    "\n",
    "#### Requirements\n",
    "* The model must use logistic regression.\n",
    "* The model should use 70% of the data to build the model, and the remaining 30% to test.\n",
    "\n",
    "#### Outputs\n",
    "The model will return the credit worthiness of an individual as a 0 (creditworthy) or a 1 (uncreditworthy). It shall employ graphical representations of the data to understand model performance\n",
    "\n",
    "#### Objectives\n",
    "1. Assuming this model is held by a lender or financial intermediary, the function of the model will likely be to quantify risk: to understand who to provide a loan to or at what rate. It is important to both maximise the number of lending possibilities (detection of 'creditworthy' applicants) and minimise the number of poor lending decisions (detection of 'uncreditworthy' applicants). Arguably, the lender or intermediary will experience greater financial loss from a loan to an applicant who fails to repay than from a missed opportunity to a borrower who would have repaid. As such, whilst an objective of this model should be to maximise lending possibilities (maximise precision), it is perhaps of more importance to circumvent poor lending decisions (maximise recall). 'F1 Score' combines precision and recall via their harmonic mean, weighting the two evenly. <p style=\"text-align: center;\">*'F2 Score' = (1 + B^2) * (precision + recall) / (B^2 * precision + recall)* where B >= 1.</p>\n",
    "In future, this model could be adapted to use the 'F_beta Score' to evaluate the model, which still considers both precision and recall but allocates a larger weighting to the latter when beta > 1.\n",
    "2. The model should perform as well as possible on new data - it should generalise well."
   ]
  },
  {
   "cell_type": "code",
   "execution_count": 1,
   "metadata": {
    "collapsed": true
   },
   "outputs": [],
   "source": [
    "## Third-party libraries\n",
    "import numpy as np\n",
    "import pandas as pd\n",
    "import datetime\n",
    "from random import shuffle, sample\n",
    "import itertools\n",
    "# Plotting\n",
    "import matplotlib.pyplot as plt\n",
    "import seaborn as sns\n",
    "# Scikit-learn\n",
    "from sklearn.preprocessing import Imputer, StandardScaler\n",
    "from sklearn.model_selection import train_test_split, cross_val_score, GridSearchCV, learning_curve\n",
    "from sklearn.model_selection import StratifiedShuffleSplit, ShuffleSplit, StratifiedKFold\n",
    "from sklearn.feature_selection import RFECV\n",
    "from sklearn.linear_model import LogisticRegression\n",
    "from sklearn.metrics import f1_score, auc, roc_auc_score, roc_curve, confusion_matrix\n",
    "\n",
    "# Configuration\n",
    "%matplotlib inline\n",
    "fpath = './data/'\n",
    "fname = 'data.csv'\n",
    "debug = False\n",
    "oversampling = True\n",
    "undersampling = True"
   ]
  },
  {
   "cell_type": "markdown",
   "metadata": {},
   "source": [
    "## Data Processing\n",
    "### Preparation\n",
    "Data preparation steps uncovered during data exploration."
   ]
  },
  {
   "cell_type": "code",
   "execution_count": 2,
   "metadata": {
    "collapsed": false
   },
   "outputs": [
    {
     "name": "stdout",
     "output_type": "stream",
     "text": [
      "Shape before preprocessing: (24775, 22)\n",
      "Shape after preprocessing: (24775, 22)\n"
     ]
    }
   ],
   "source": [
    "df = pd.read_csv(fpath + fname, header=0)\n",
    "df = df.drop(df.index[7666]) #Problematic index identified in exploration\n",
    "df = df.sample(frac=1).reset_index(drop=False) #Maintain indexes in a column\n",
    "print 'Shape before preprocessing: {}'.format(df.shape)\n",
    "\n",
    "# Map class\n",
    "df['Class'] = df['Class'].map({'Uncreditworthy': 1, 'Creditworthy': 0})\n",
    "\n",
    "# Employment length\n",
    "df['Employment Length'] = pd.cut(x=df['Employment Length'], bins=11, labels=[x for x in range(11)])\n",
    "\n",
    "# Loan term\n",
    "df['Loan Term'] = df['Loan Term'].map(lambda x: int(x[0:2]))\n",
    "\n",
    "# No. Delinquencies In Last 2 Years\n",
    "dict_ndil2y = {'Three': 'ThreeOrMore', \n",
    "        'Four': 'ThreeOrMore', \n",
    "        'Five': 'ThreeOrMore', \n",
    "        'Six': 'ThreeOrMore',\n",
    "        'Seven': 'ThreeOrMore',\n",
    "        'Eight': 'ThreeOrMore', \n",
    "        'Nine': 'ThreeOrMore'\n",
    "        }\n",
    "df['No. Delinquencies In Last 2 Years'].replace(dict_ndil2y, inplace=True)\n",
    "\n",
    "# No. Adverse Public Records\n",
    "df['No. Adverse Public Records'] = df['No. Adverse Public Records'].map(lambda x: int(x != 'None'))\n",
    "df.rename(columns={'No. Adverse Public Records': 'Adverse Public Records?'}, inplace=True)\n",
    "\n",
    "# No. Of Public Record Bankruptcies\n",
    "df['No. Of Public Record Bankruptcies'] = df['No. Of Public Record Bankruptcies'].map(lambda x: int(x != 'None'))\n",
    "df.rename(columns={'No. Of Public Record Bankruptcies': 'Public Record Bankruptcies?'}, inplace=True)\n",
    "\n",
    "# Earliest Credit Line Opened\n",
    "def convert_to_year(n):\n",
    "        ''' Converts n days since 1990 into year'''\n",
    "        base = datetime.datetime.strptime('01/01/1900', '%d/%m/%Y')\n",
    "        date = base + datetime.timedelta(days=n)\n",
    "        return date.year\n",
    "df['Earliest Credit Line Opened'] = df['Earliest Credit Line Opened'].map(convert_to_year)\n",
    "\n",
    "# Home ownership\n",
    "df['Home Ownership'].replace({'NOne': 'OTHER'}, inplace=True)\n",
    "\n",
    "# Binning Months Since Last Delinquency\n",
    "df_msld_0 = df['Months Since Last Delinquency'].loc[df['Class'] == 0]\n",
    "df_msld_1 = df['Months Since Last Delinquency'].loc[df['Class'] == 1]\n",
    "# Remove obscuring 'zero' values.\n",
    "df_msld_0 = df_msld_0.loc[df['Months Since Last Delinquency'] > 0]\n",
    "df_msld_1 = df_msld_1.loc[df['Months Since Last Delinquency'] > 0]\n",
    "min_not_zero = min(min(df_msld_0), min(df_msld_1), 0.25)\n",
    "bins = [-0.25, min_not_zero * 0.99, 6, 12, 60, max(df['Months Since Last Delinquency'])]\n",
    "labels = ['NA', 'x < 6', '6 < x < 12', '12< x < 60', 'x > 60']\n",
    "df['Months Since Last Delinquency'] = pd.cut(x=df['Months Since Last Delinquency'], bins=bins, labels=labels)\n",
    "\n",
    "## Binning Loan Application Description\n",
    "labels = [x for x in range(0, 1100, 100)]\n",
    "df_lad = pd.cut(x=df['Loan Application Description'], bins=11, labels=labels)\n",
    "# Use binning system for Loan Application Description\n",
    "labels = ['x < 100', '100 < x < 200', '200 < x < 300', '300 < x < 400',\n",
    "          '400 < x < 500', '500 < x < 600', '600 < x < 700', '700 < x < 800',\n",
    "          '800 < x < 900', '900 < x < 1000', 'x > 1000']\n",
    "df['Loan Application Description'] = pd.cut(x=df['Loan Application Description'], bins=11, labels=labels)\n",
    "print 'Shape after preprocessing: {}'.format(df.shape)"
   ]
  },
  {
   "cell_type": "markdown",
   "metadata": {},
   "source": [
    "#### Modify input distributions\n",
    "The logistic regression employed at the heart of the model works on the assumption of normally-distributed data. Some of our inputs are skewed, so root transforms are employed to make the features' values approximately Gaussian."
   ]
  },
  {
   "cell_type": "code",
   "execution_count": 3,
   "metadata": {
    "collapsed": false
   },
   "outputs": [],
   "source": [
    "# Plot chief numerical cols\n",
    "if debug:\n",
    "    f, (ax1, ax2, ax3, ax4, ax5) = plt.subplots(5, figsize=(5,10))\n",
    "    sns.distplot(np.sqrt(df['Loan Amount']), ax=ax1)\n",
    "    sns.distplot(np.sqrt(df['Annual Income']), ax=ax2) \n",
    "    sns.distplot(np.log(df['FICO Credit Score']), ax=ax3)\n",
    "    sns.distplot(np.sqrt(df['No. Of Credit Lines']), ax=ax4)\n",
    "    sns.distplot(np.sqrt(df['Total Credit Balance']), ax=ax5)\n",
    "    plt.tight_layout()\n",
    "\n",
    "# Root-transform key numerical inputs\n",
    "df['Loan Amount'] = np.sqrt(df['Loan Amount'])\n",
    "df['Annual Income'] = np.sqrt(df['Annual Income'])\n",
    "#df['FICO Credit Score'] = np.log(df['FICO Credit Score']) #does not improve cross val score\n",
    "df['No. Of Credit Lines'] = np.sqrt(df['No. Of Credit Lines'])\n",
    "df['Total Credit Balance'] = np.sqrt(df['Total Credit Balance'])"
   ]
  },
  {
   "cell_type": "markdown",
   "metadata": {},
   "source": [
    "### Imputation\n",
    "Impute null values in the *Use of Credit Line* feature. Imputation is used for only 51 rows which could also be dropped, but should the dataset be expanded in future imputation may become more important. for this dataset, it is not decided whether dropping the rows or imputing yields a better model."
   ]
  },
  {
   "cell_type": "code",
   "execution_count": 4,
   "metadata": {
    "collapsed": false
   },
   "outputs": [
    {
     "name": "stdout",
     "output_type": "stream",
     "text": [
      "Mean of imputations: 47.95\n"
     ]
    }
   ],
   "source": [
    "# For check\n",
    "a = df['Use Of Credit Line'].sum()\n",
    "a_imp = df['Use Of Credit Line'].isnull().sum()\n",
    "\n",
    "# Perform imputation\n",
    "imp = Imputer(missing_values='NaN', strategy='mean', axis=0)\n",
    "df['Use Of Credit Line'] = imp.fit_transform(df[['Use Of Credit Line']])\n",
    "\n",
    "# Check mean imputed value is reasonable\n",
    "b = df['Use Of Credit Line'].sum()\n",
    "print 'Mean of imputations: {:.2f}'.format((b - a) / float(a_imp))"
   ]
  },
  {
   "cell_type": "markdown",
   "metadata": {},
   "source": [
    "### Get dummies\n",
    "Convert features other than ordinal into multiple columns of ones and zeros. Due to the Dummy Variable Trap a function has been created to remove one of the columns from the Pandas get_dummies output."
   ]
  },
  {
   "cell_type": "code",
   "execution_count": 5,
   "metadata": {
    "collapsed": false
   },
   "outputs": [
    {
     "name": "stdout",
     "output_type": "stream",
     "text": [
      "Shape of dataset: (24775, 107)\n"
     ]
    }
   ],
   "source": [
    "def make_dummies(data, name, drop_modal=True, retain=False):\n",
    "    \"\"\" Create dummy columns for unique values in a column using the\n",
    "    Pandas get_dummies function. Dummy values are included in the\n",
    "    original dataset. If drop_modal is True, the most common value is\n",
    "    not included as a dummy column. If retain is True, the original\n",
    "    column is kept.\n",
    "    :param data: a Pandas DataFrame, the data to work with\n",
    "    :param name: a string, the column from which to create dummies\n",
    "    :param drop_modal: bool, no dummies for the most common value\n",
    "    :param retain: bool, whether to keep the original column\n",
    "    \"\"\"\n",
    "    try:\n",
    "        dummies = pd.get_dummies(data[name])\n",
    "    except IndexError:\n",
    "        raise IndexError('column {} not found'.format(name))\n",
    "    # Create headings for new dummy columns and add to dataset\n",
    "    titles = [' '.join((name, str(i))) for i in dummies.columns]\n",
    "    data[titles] = dummies\n",
    "    # Remove modal value if requested\n",
    "    if drop_modal:\n",
    "        modal = data[name].mode()\n",
    "        # Raise warning if more than 1 modal value exists\n",
    "        if len(modal) > 1:\n",
    "             print('More than one modal value in {}'.format(name))\n",
    "        data = data.drop(' '.join((name, str(modal[0]))), 1)\n",
    "    # Drop the original column if requested\n",
    "    return data if retain else data.drop(name, 1)\n",
    "\n",
    "# Convert categorical columns to np.object type\n",
    "categorical_cols = ['Months Since Last Delinquency', \n",
    "                     'Employment Length',\n",
    "                     'Loan Application Description'\n",
    "                     ]\n",
    "for col in categorical_cols:\n",
    "    df[col] = df[col].astype(np.object)\n",
    "\n",
    "# Get dummy values for remaining categorical (numpy object) data\n",
    "for name, column in df.iteritems():\n",
    "    if column.dtype == np.object:\n",
    "        df = make_dummies(df, name)\n",
    "        \n",
    "print 'Shape of dataset: {}'.format(df.shape)"
   ]
  },
  {
   "cell_type": "markdown",
   "metadata": {},
   "source": [
    "#### Further preparation\n",
    "Correlations reveal that certain features are collinear, which could result in low feature weightings in the classifier when the feature effect is significant. To counter this, some features are merged and others removed."
   ]
  },
  {
   "cell_type": "code",
   "execution_count": 6,
   "metadata": {
    "collapsed": false,
    "scrolled": false
   },
   "outputs": [
    {
     "name": "stdout",
     "output_type": "stream",
     "text": [
      "Annual Income                 Loan Amount                0.438026\n",
      "Use Of Credit Line            FICO Credit Score         -0.577934\n",
      "                              Total Credit Balance       0.491548\n",
      "Total Number Of Credit Lines  No. Of Credit Lines        0.676549\n",
      "Public Record Bankruptcies?   Adverse Public Records?    0.878347\n",
      "dtype: float64\n"
     ]
    }
   ],
   "source": [
    "cor = df.corr()\n",
    "cor.loc[:,:] = np.tril(cor, k=-1) #returns triangle below diagonal of an array\n",
    "cor = cor.stack()\n",
    "print cor[(cor > 0.4) | (cor < -0.4)]"
   ]
  },
  {
   "cell_type": "code",
   "execution_count": 7,
   "metadata": {
    "collapsed": false
   },
   "outputs": [
    {
     "name": "stdout",
     "output_type": "stream",
     "text": [
      "Adverse Events: 2299\n",
      "Shape of dataset: (24775, 105)\n"
     ]
    }
   ],
   "source": [
    "## Changes identified through correlation\n",
    "# Merge bankruptcies and other adverse records to boolean\n",
    "df['Adverse Event?'] = df['Public Record Bankruptcies?'] + df['Adverse Public Records?']\n",
    "df['Adverse Event?'].map(lambda x: np.sum(x > 0))\n",
    "print 'Adverse Events: {}'.format(np.sum(df['Adverse Event?']))\n",
    "# Merge No. Of Credit Lines into percentage of credit lines remaining\n",
    "df['Credit Line Pc Remaining'] = 1 - df['No. Of Credit Lines'] / df['Total Number Of Credit Lines']\n",
    "\n",
    "drop_cols = ['Public Record Bankruptcies?',\n",
    "             'Adverse Public Records?',\n",
    "             'Use Of Credit Line',\n",
    "             'Total Number Of Credit Lines']\n",
    "df.drop(drop_cols, axis=1, inplace=True)\n",
    "print 'Shape of dataset: {}'.format(df.shape)"
   ]
  },
  {
   "cell_type": "markdown",
   "metadata": {},
   "source": [
    "### Addressing imbalance: over-sampling and under-sampling"
   ]
  },
  {
   "cell_type": "code",
   "execution_count": 8,
   "metadata": {
    "collapsed": false
   },
   "outputs": [
    {
     "name": "stdout",
     "output_type": "stream",
     "text": [
      "Shape before oversampling: (24775, 105)\n",
      "Total minority cases: 4502\n",
      "Minority cases stored for cv: 1350\n",
      "Minority cases remaining for oversampling: 3152\n",
      "Minority cases oversampled: 1576\n",
      "Shape after oversampling: (25001, 105) + 1576 held out.\n",
      "\n",
      "Shape before undersampling: (25001, 105)\n",
      "Shape after undersampling: (9456, 105), split \"0\":\"1\" = 4728:4728\n"
     ]
    }
   ],
   "source": [
    "if oversampling:\n",
    "    print 'Shape before oversampling: {}'.format(df.shape)\n",
    "    idx_minority = df[df['Class'] == 1].index.tolist()\n",
    "    print 'Total minority cases: {}'.format(len(idx_minority))\n",
    "    shuffle(idx_minority)\n",
    "    # Remove top 30% for cross validation\n",
    "    idx_minority_cv = idx_minority[0:int(len(idx_minority)*0.3)]\n",
    "    try:\n",
    "        idx_minority_cv.remove('24775') #quick fix; problematic index\n",
    "    except:\n",
    "        pass\n",
    "    minority_cv = df.loc[idx_minority_cv]\n",
    "    minority_cv.drop('index', axis=1, inplace=True) #Drop index (used for test set only)\n",
    "    print 'Minority cases stored for cv: {}'.format(len(idx_minority_cv))\n",
    "    \n",
    "    # Using remainder, create copy of random 50% subsample\n",
    "    idx_minority = idx_minority[int(len(idx_minority)*0.3):]\n",
    "    print 'Minority cases remaining for oversampling: {}'.format(len(idx_minority))\n",
    "    shuffle(idx_minority)\n",
    "    idx_minority_os = idx_minority[0:int(len(idx_minority)*0.5)]\n",
    "    minority_os = df.loc[idx_minority_os]\n",
    "    print 'Minority cases oversampled: {}'.format(len(idx_minority_os)) \n",
    "    \n",
    "    # Drop cv from data so the rows can't be used to train the model \n",
    "    df.drop(df.index[idx_minority_cv], axis=0, inplace=True)\n",
    "    # Add os to data to complete oversampling\n",
    "    df = pd.concat([df, minority_os])\n",
    "    df.reset_index(drop=True, inplace=True)\n",
    "    print 'Shape after oversampling: {} + {} held out.'.format(df.shape,\n",
    "                                                               len(idx_minority_os)\n",
    "                                                              )\n",
    "    \n",
    "if undersampling:\n",
    "    print '\\nShape before undersampling: {}'.format(df.shape)\n",
    "    count_minority = len(df[df['Class'] == 1]) \n",
    "    idx_majority = df[df['Class'] == 0].index.tolist()\n",
    "    shuffle(idx_majority)\n",
    "    idx_majority_us = idx_majority[0:len(idx_majority)-count_minority]\n",
    "    df.drop(df.index[idx_majority_us], axis=0, inplace=True)\n",
    "    print 'Shape after undersampling: {}, split \"0\":\"1\" = {}:{}'.format(df.shape, \n",
    "                                                              len(df[df['Class'] == 0]), \n",
    "                                                              len(df[df['Class'] == 1])\n",
    "                                                             )"
   ]
  },
  {
   "cell_type": "markdown",
   "metadata": {},
   "source": [
    "### Splitting the dataset\n",
    "Before any transformation operations are applied which could cause a data leak (e.g. scaling, principal component analysis and cross-validation) the dataset is divided into training and test sets. "
   ]
  },
  {
   "cell_type": "code",
   "execution_count": 9,
   "metadata": {
    "collapsed": false
   },
   "outputs": [
    {
     "name": "stdout",
     "output_type": "stream",
     "text": [
      "Size of X_train: (6619, 103) (70.0% of data)\n",
      "Size of X_test:  (2837, 104) (30.0% of data)\n"
     ]
    },
    {
     "name": "stderr",
     "output_type": "stream",
     "text": [
      "C:\\Users\\bw8\\AppData\\Local\\Continuum\\Anaconda2\\lib\\site-packages\\ipykernel\\__main__.py:7: SettingWithCopyWarning: \n",
      "A value is trying to be set on a copy of a slice from a DataFrame\n",
      "\n",
      "See the caveats in the documentation: http://pandas.pydata.org/pandas-docs/stable/indexing.html#indexing-view-versus-copy\n",
      "C:\\Users\\bw8\\AppData\\Local\\Continuum\\Anaconda2\\lib\\site-packages\\ipykernel\\__main__.py:8: SettingWithCopyWarning: \n",
      "A value is trying to be set on a copy of a slice from a DataFrame\n",
      "\n",
      "See the caveats in the documentation: http://pandas.pydata.org/pandas-docs/stable/indexing.html#indexing-view-versus-copy\n"
     ]
    }
   ],
   "source": [
    "X_train, X_test, y_train, y_test = train_test_split(\n",
    "    df, df['Class'], test_size=0.3, random_state=21\n",
    "    )\n",
    "\n",
    "# Drop Class column from X_train and X_test\n",
    "# X_test retains original index as extra column\n",
    "X_train.drop(['index', 'Class'], axis=1, inplace=True)\n",
    "X_test.drop('Class', axis=1, inplace=True)\n",
    "\n",
    "print 'Size of X_train: {} ({:.1f}% of data)'.format(X_train.shape, \n",
    "                                                     len(X_train)*100/float(len(df))\n",
    "                                                    )\n",
    "print 'Size of X_test:  {} ({:.1f}% of data)'.format(X_test.shape,\n",
    "                                                     len(X_test)*100/float(len(df))\n",
    "                                                    )"
   ]
  },
  {
   "cell_type": "markdown",
   "metadata": {},
   "source": [
    "### Normalise the data\n",
    "The data is normalised to assist convergence of the gradient descent algorithm at the heart of the model. It would also be necessary if PCA were used to maximize the variance of each component."
   ]
  },
  {
   "cell_type": "code",
   "execution_count": 10,
   "metadata": {
    "collapsed": false
   },
   "outputs": [
    {
     "name": "stderr",
     "output_type": "stream",
     "text": [
      "C:\\Users\\bw8\\AppData\\Local\\Continuum\\Anaconda2\\lib\\site-packages\\ipykernel\\__main__.py:9: SettingWithCopyWarning: \n",
      "A value is trying to be set on a copy of a slice from a DataFrame\n",
      "\n",
      "See the caveats in the documentation: http://pandas.pydata.org/pandas-docs/stable/indexing.html#indexing-view-versus-copy\n"
     ]
    }
   ],
   "source": [
    "def perform_scaling(d):\n",
    "    ''' Scales data using pre-fit 'scaler', maintaining DataFrames. '''\n",
    "    col_names = d.columns\n",
    "    col_idx = d.index\n",
    "    return pd.DataFrame(scaler.transform(d), columns=col_names, index=col_idx)\n",
    "\n",
    "# Maintain test index whilst scaling\n",
    "test_index = X_test['index']\n",
    "X_test.drop('index', axis=1, inplace=True)\n",
    "\n",
    "scaler = StandardScaler().fit(X_train)\n",
    "X_train = perform_scaling(X_train)\n",
    "X_test = perform_scaling(X_test)\n",
    "\n",
    "X_test.loc[:, 'index'] = test_index\n",
    "\n",
    "# Scale oversampled cross validation set, too\n",
    "if oversampling:\n",
    "    y_minority_cv = minority_cv['Class']\n",
    "    minority_cv.drop('Class', axis=1, inplace=True)\n",
    "    X_minority_cv = perform_scaling(minority_cv) "
   ]
  },
  {
   "cell_type": "markdown",
   "metadata": {},
   "source": [
    "## Cross-validation\n",
    "Feature selection and model selection are performed within a cross-validation loop. A ShuffleSplit validation is used due to the limited amount of data available: it maximises the training data used by omitting the need for a dedicated cross-validation dataset, without permitting data leaks in each fold. A stratified cross validation strategy is used to ensure that relative *Class* frequencies are approximately preserved in each train and validation fold, especially given that the dataset is imbalanced.\n",
    "\n",
    "### Feature Selection\n",
    "Feature selection is performed to identify and use only the most predictive features. A simpler model is better for multiple reasons, including being easier to put into a production environment, often generalising more effectively to new cases and being simpler to conceptualise by humans. An F1 scoring strategy is used for feature selection for the reasons decribed in Objective 1, though other scoring strategies such as F_beta (beta > 1) could be used depending on the relative importance or precision and recall."
   ]
  },
  {
   "cell_type": "markdown",
   "metadata": {},
   "source": [
    "#### Recursive feature elimination\n",
    "Use RFECV, a backward-search, cross-validated wrapper method for feature selection. As class imbalance is addressed through over/undersampling, the model is able to use the 'accuracy' metric to select the number of features coming out of the RFE. Through cross validation it was determined that the performance increase is minimal, but the variance of the result is significantly reduced."
   ]
  },
  {
   "cell_type": "code",
   "execution_count": 11,
   "metadata": {
    "collapsed": true
   },
   "outputs": [],
   "source": [
    "def get_key(item):\n",
    "    return item[1]\n",
    "\n",
    "def feature_selection_RFE(X_train, y_train, cv, debug=False):\n",
    "    \"\"\" Takes a training set and performs recursive feature elimination.\n",
    "    Returns a list of the best columns for predicting y from X in the\n",
    "    current cross-validation fold.\n",
    "    :param X: pandas DataFrame, cleaned training dataset\n",
    "    :param y: pandas Series or DataFrame, containing Class\n",
    "    :param cv: cross-validation strategy\n",
    "    :param estimator: Classification model, e.g. logistic regression.\n",
    "    :param debug: Boolean, option to turn on/off score vs # features plot\n",
    "    \"\"\"\n",
    "\n",
    "    # Choose classifier for RFE\n",
    "    clf = LogisticRegression(C=10, random_state=1992) #class_weight='balanced',\n",
    "\n",
    "    # Set up a recursive feature elimination selector, with cross-validation\n",
    "    step = 1\n",
    "    selector = RFECV(clf, step=step, cv=StratifiedKFold(5), scoring='accuracy', verbose=1)\n",
    "    selector.fit(X_train, y_train)\n",
    "\n",
    "    # Determine best score and associated features\n",
    "    f1_rfe = selector.grid_scores_[(len(X_train.columns)-selector.n_features_)/step]\n",
    "    names_rfe = [(n, gs) for n, gs, s in zip(X_train.columns, selector.ranking_, selector.support_) if s]\n",
    "    names_rfe = sorted(names_rfe, key=get_key)\n",
    "    names_rfe = [n for n, gs in names_rfe]\n",
    "    \n",
    "    # Debugging / detail\n",
    "    if debug:\n",
    "        print 'Original number of features:  %i'.format(len(X_train.columns))\n",
    "        print 'Number of features after RFE: %i'.format(selector.n_features_)\n",
    "        print 'Best RFE f1 score: {:.3f}, using {} features.'.format(f1_rfe, len(names_rfe))\n",
    "        # Plot number of features against cross-validation scores\n",
    "        plt.figure()\n",
    "        plt.xlabel('Number of features selected')\n",
    "        plt.ylabel('Cross validation score (greater is better)')\n",
    "        plt.plot(range(1, len(selector.grid_scores_) + 1), selector.grid_scores_)\n",
    "        plt.show()\n",
    "\n",
    "    X_train_rfe = X_train[names_rfe]\n",
    "    return names_rfe"
   ]
  },
  {
   "cell_type": "markdown",
   "metadata": {},
   "source": [
    "#### Forward feature selection\n",
    "A forward feature (filter) selection method was also attempted."
   ]
  },
  {
   "cell_type": "markdown",
   "metadata": {
    "collapsed": false
   },
   "source": [
    "def feature_selection_FFS(X_train, y_train, cv, debug=False):\n",
    "    \"\"\"\n",
    "    TBC\n",
    "    \"\"\"\n",
    "\n",
    "    X_train.reset_index(drop=True, inplace=True)\n",
    "    y_train.reset_index(drop=True, inplace=True)\n",
    "\n",
    "    # Manual forward feature selection requires CV\n",
    "    # GBM is intensive; use only three splits\n",
    "    \n",
    "    scores_skf = []\n",
    "    cv_skf = StratifiedKFold(n_splits=3, random_state=7)\n",
    "    for cv_train_idx, cv_cv_idx in cv_skf.split(X_train, y_train):\n",
    "        X_train_skf = X_train.loc[cv_train_idx]\n",
    "        y_train_skf = y_train.loc[cv_train_idx]\n",
    "        X_cv_skf = X_train.loc[cv_cv_idx]\n",
    "        y_cv_skf = y_train.loc[cv_cv_idx]\n",
    "        \n",
    "        # Fit with ExtraTreesClassifier to make use of the feature_importances_ attribute\n",
    "        clf = ExtraTreesClassifier(n_estimators=300, random_state=2017)\n",
    "        clf.fit(X_train_skf, y_train_skf)\n",
    "        feat_imp = clf.feature_importances_\n",
    "        feat_imp_sorted = sorted(feat_imp, reverse=True)\n",
    "        if False:\n",
    "            feat_imp_sorted_c = sorted(zip(X_train_skf.columns, clf.feature_importances_), key=get_key)[::-1]\n",
    "            print 'Feature importance before GBM (first 5): {}\\n'.format(feat_imp_sorted_c[0:5])\n",
    "\n",
    "        # Use GBM to evaluate performance, adding features in order of determined importance\n",
    "        clf = GradientBoostingClassifier(n_estimators=200, random_state=2017)\n",
    "        total_features = X_train_skf.shape[1]\n",
    "        f1_ffs = 0\n",
    "        for feats in range(10, total_features + 1, 3):\n",
    "            threshold_idx = min(len(feat_imp_sorted), feats)\n",
    "            threshold = feat_imp_sorted[threshold_idx]\n",
    "            select = feat_imp > threshold\n",
    "            if any(select): \n",
    "                clf.fit(X_train_skf.values[:,select], y_train_skf.values)\n",
    "                # Evaluate on local cross validation set \n",
    "                #tmp_preds = clf.predict(X_cv_cv.values[:, select])\n",
    "                #tmp_probs = clf.predict_proba(X_cv_cv.values[:, select])[:,1]\n",
    "                f1 = cross_val_score(clf, X_cv_skf.values[:,select], y_cv_skf.values, scoring='f1').mean()\n",
    "                #f1 = f1_score(y_test.values, tmp_preds)\n",
    "                #roc_pred = roc_auc_score(y_test.values, tmp_preds)\n",
    "                #roc_prob = roc_auc_score(y_test.values, tmp_probs)\n",
    "                if f1 > f1_ffs:\n",
    "                    f1_ffs = f1\n",
    "                    features_ffs = select\n",
    "                    #np.save('features/clf_sel.npy',select)\n",
    "                if debug:\n",
    "                    print 'Completed {}/{}. F1: {:.5f}. Selected {} features.'.format(feats, total_features, f1, np.sum(select))\n",
    "            else:\n",
    "                print 'No features selected.'\n",
    "            if feats >= 80:\n",
    "                break\n",
    "        scores_skf.append([f1_ffs, features_ffs])\n",
    "        \n",
    "    X_train_ffs = X_train[X_train_skf.columns[features_ffs]]\n",
    "    \n",
    "    if debug:\n",
    "        print scores_skf\n",
    "        print '\\nBest FFS f1 score: {}, using {} features.'.format(f1_ffs, len(X_train_skf.columns[features_ffs]))\n",
    "        print 'Shape of data before FFS: {}'.format(X_train_skf.shape)\n",
    "        print 'Shape of data after FFS: {}'.format(X_train_ffs.shape)\n",
    "    \n",
    "    return X_train_ffs"
   ]
  },
  {
   "cell_type": "markdown",
   "metadata": {},
   "source": [
    "### Model Selection\n",
    "The code below performs model selection by tuning the regularisation parameter 'C' of the logistic regression under cross validation. The parameter is chosen via 'recall' scoring, as this was found to be the most effective in cross-validation."
   ]
  },
  {
   "cell_type": "code",
   "execution_count": 12,
   "metadata": {
    "collapsed": true
   },
   "outputs": [],
   "source": [
    "def tune_hyperparams(X_train, y_train, cv, debug=False):\n",
    "    clf = LogisticRegression(random_state=1992) #class_weight='balanced', \n",
    "    c_range = np.logspace(-2, 2, 5)\n",
    "    grid_clf = GridSearchCV(estimator=clf, param_grid=dict(C=c_range), cv=cv,\n",
    "                            n_jobs=1, scoring='recall'\n",
    "                           )\n",
    "    grid_clf.fit(X_train, y_train)\n",
    "    print 'Parameters chosen: {}'.format(grid_clf.best_params_)\n",
    "    return grid_clf.best_estimator_, grid_clf.best_params_"
   ]
  },
  {
   "cell_type": "markdown",
   "metadata": {},
   "source": [
    "### Model Evaluation\n",
    "The evaluation centres around F1, precision and recall. To assist, the Receiver Operator Characteristic curve is plotted to display the true positive / false positive rate, and the confusion matrix is given to indicate where the model is performing poorly or well."
   ]
  },
  {
   "cell_type": "code",
   "execution_count": 13,
   "metadata": {
    "collapsed": false
   },
   "outputs": [],
   "source": [
    "def evaluate_classifier(clf, X_cv, y_cv, cv, debug=False):\n",
    "    # F1 and accuracy\n",
    "    cv_f1 = cross_val_score(clf, X_cv, y_cv, cv=cv, scoring='f1')\n",
    "    cv_prec = cross_val_score(clf, X_cv, y_cv, cv=cv, scoring='precision')\n",
    "    cv_recc = cross_val_score(clf, X_cv, y_cv, cv=cv, scoring='recall')\n",
    "    cv_acc = cross_val_score(clf, X_cv, y_cv, cv=cv, scoring='accuracy')\n",
    "    print 'Cross-validated F1 score:         {:.3f} +/- {:.3f}.'.format(cv_f1.mean(), cv_f1.std())\n",
    "    print 'Cross-validated precision score:  {:.3f} +/- {:.3f}.'.format(cv_prec.mean(), cv_prec.std())\n",
    "    print 'Cross-validated recall score:     {:.3f} +/- {:.3f}.'.format(cv_recc.mean(), cv_recc.std())\n",
    "    print 'Cross-validated accuracy score:   {:.3f} +/- {:.3f}.'.format(cv_acc.mean(), cv_acc.std())\n",
    "    \n",
    "    # ROC and AUC\n",
    "    def plot_roc_curve(fpr, tpr, roc_auc):\n",
    "        \"\"\" Plots ROC curve.\n",
    "        :param fpr: numpy array, false positive rate by threshold\n",
    "        :param tpr: numpy array, true positive rate by threshold\n",
    "        :param roc_auc: float, area under curve\n",
    "        \"\"\"\n",
    "        print ':: Plotting ROC curve'\n",
    "        plt.figure()\n",
    "        plt.title('ROC Curve')\n",
    "        plt.xlabel('False Positive Rate')\n",
    "        plt.ylabel('True Positive Rate')\n",
    "        plt.plot(fpr, tpr, label='ROC area = {:.2f}'.format(roc_auc))\n",
    "        plt.plot(np.linspace(0.0, 1.0, 5), np.linspace(0.0, 1.0, 5), \n",
    "                 dashes=[3,1], color='grey'\n",
    "                )\n",
    "        plt.legend(loc = 'lower right')\n",
    "        return plt\n",
    "    \n",
    "    # Learning curve\n",
    "    def plot_learning_curves(X, y, cv, estimator, title):\n",
    "        \"\"\" Plots learning curves, which plot the cross-validated training\n",
    "        and test scores for increasing training set size. Taken and modified \n",
    "        from the scikit-learn documentation.\n",
    "        :param X: pandas DataFrame, cleaned training dataset\n",
    "        :param y: pandas Series or DataFrame, containing sale price\n",
    "        :param cv: cross-validation generator or iterable\n",
    "        :param estimator: a regression model\n",
    "        :param title: string, title of graph\n",
    "        \"\"\"\n",
    "        print(':: Plotting learning curve...')\n",
    "        plt.figure()\n",
    "        plt.title(title)\n",
    "        plt.xlabel('Training examples')\n",
    "        plt.ylabel('Score')\n",
    "        train_sizes, train_scores, test_scores = learning_curve(\n",
    "            estimator, X, y, cv=StratifiedShuffleSplit(10), \n",
    "            train_sizes=np.linspace(0.1, 1.0, 7),\n",
    "            scoring='f1'\n",
    "            )\n",
    "        train_scores_mean = np.mean(train_scores, axis=1)\n",
    "        train_scores_std = np.std(train_scores, axis=1)\n",
    "        test_scores_mean = np.mean(test_scores, axis=1)\n",
    "        test_scores_std = np.std(test_scores, axis=1)\n",
    "        plt.fill_between(train_sizes, train_scores_mean - train_scores_std,\n",
    "                         train_scores_mean + train_scores_std, alpha=0.1,\n",
    "                         color=\"r\")\n",
    "        plt.fill_between(train_sizes, test_scores_mean - test_scores_std,\n",
    "                         test_scores_mean + test_scores_std, alpha=0.1, color=\"g\")\n",
    "        plt.plot(train_sizes, train_scores_mean, 'o-', color=\"r\", label='Training score')\n",
    "        plt.plot(train_sizes, test_scores_mean, 'o-', color=\"g\", label='Cross-validation score')\n",
    "        plt.legend(loc='best')\n",
    "        return plt\n",
    "    \n",
    "    def plot_confusion_matrix(cm, classes, title, cmap=plt.cm.Blues):\n",
    "        \"\"\"\n",
    "        This function plots the confusion matrix graphically. Taken and \n",
    "        modified from the scikit-learn documentation.\n",
    "        :param cm: confusion_matrix object\n",
    "        :param classes: list, containing class names\n",
    "        :param title: string, title of graph\n",
    "        :param cmap: list or string, colour map of confusion matrix\n",
    "        \"\"\"\n",
    "        print(':: Plotting confusion matrix...')\n",
    "        plt.figure()\n",
    "        plt.imshow(cm, interpolation='nearest', cmap=cmap)\n",
    "        plt.title(title)\n",
    "        plt.colorbar()\n",
    "        tick_marks = np.arange(len(classes))\n",
    "        plt.xticks(tick_marks, classes, rotation=45)\n",
    "        plt.yticks(tick_marks, classes)\n",
    "        plt.grid()\n",
    "        #print(cm)\n",
    "        thresh = cm.max() / 2.\n",
    "        for i, j in itertools.product(range(cm.shape[0]), range(cm.shape[1])):\n",
    "            plt.text(j, i, cm[i, j],\n",
    "                     horizontalalignment=\"center\",\n",
    "                     color=\"white\" if cm[i, j] > thresh else \"black\")\n",
    "        plt.tight_layout()\n",
    "        plt.ylabel('True label')\n",
    "        plt.xlabel('Predicted label')\n",
    "        return plt\n",
    "    \n",
    "    if debug:\n",
    "        # Print ROC curve and AUC\n",
    "        probs = clf.predict_proba(X_cv)\n",
    "        fpr, tpr, thresholds = roc_curve(y_cv, probs[:, 1])\n",
    "        roc_auc = auc(fpr, tpr)\n",
    "        plot = plot_roc_curve(fpr, tpr, roc_auc) \n",
    "        plot.show()\n",
    "        print 'ROC area under curve: {:.2f}'.format(roc_auc)\n",
    "       \n",
    "        # Print learning curve\n",
    "        title = 'Learning curve (f1 score)'\n",
    "        plot1 = plot_learning_curves(X_cv, y_cv, cv, clf, title)\n",
    "        plot1.show()\n",
    "\n",
    "        # Print confusion matrix\n",
    "        preds = clf.predict(X_cv)\n",
    "        conf_matrix = confusion_matrix(y_cv, preds)\n",
    "        title = 'Confusion matrix'\n",
    "        plot2 = plot_confusion_matrix(conf_matrix, classes=['Creditworthy', 'Uncreditworthy'], title=title)\n",
    "        plot2.show()\n",
    "\n",
    "    return cv_f1.mean(), cv_f1.var()"
   ]
  },
  {
   "cell_type": "markdown",
   "metadata": {},
   "source": [
    "### Running the pipeline\n",
    "Now that the model pipeline is constructed, call feature selection and model selection within each cross validation split, then evaluate. Performing both feature selection and model selection within cross validation ensures no data leakage between the two, and optimisation of both parameters in tandem."
   ]
  },
  {
   "cell_type": "code",
   "execution_count": 14,
   "metadata": {
    "collapsed": false,
    "scrolled": true
   },
   "outputs": [
    {
     "name": "stdout",
     "output_type": "stream",
     "text": [
      "\n",
      "-------------- Executing CV fold 1 --------------\n",
      "\n",
      "::: Performing feature selection...\n",
      "\n",
      "::: Tuning hyperparameters...\n",
      "Parameters chosen: {'C': 0.10000000000000001}\n",
      "\n",
      "::: Evaluating classifier...\n",
      "Cross-validated F1 score:         0.712 +/- 0.028.\n",
      "Cross-validated precision score:  0.683 +/- 0.026.\n",
      "Cross-validated recall score:     0.744 +/- 0.036.\n",
      "Cross-validated accuracy score:   0.664 +/- 0.032.\n",
      "\n",
      "-------------- Executing CV fold 2 --------------\n",
      "\n",
      "::: Performing feature selection...\n",
      "\n",
      "::: Tuning hyperparameters...\n",
      "Parameters chosen: {'C': 0.01}\n",
      "\n",
      "::: Evaluating classifier...\n",
      "Cross-validated F1 score:         0.713 +/- 0.022.\n",
      "Cross-validated precision score:  0.673 +/- 0.024.\n",
      "Cross-validated recall score:     0.758 +/- 0.026.\n",
      "Cross-validated accuracy score:   0.651 +/- 0.028.\n",
      "\n",
      "-------------- Executing CV fold 3 --------------\n",
      "\n",
      "::: Performing feature selection...\n",
      "\n",
      "::: Tuning hyperparameters...\n",
      "Parameters chosen: {'C': 0.01}\n",
      "\n",
      "::: Evaluating classifier...\n",
      "Cross-validated F1 score:         0.730 +/- 0.019.\n",
      "Cross-validated precision score:  0.687 +/- 0.023.\n",
      "Cross-validated recall score:     0.780 +/- 0.024.\n",
      "Cross-validated accuracy score:   0.667 +/- 0.025.\n",
      "\n",
      "-------------- Executing CV fold 4 --------------\n",
      "\n",
      "::: Performing feature selection...\n",
      "\n",
      "::: Tuning hyperparameters...\n",
      "Parameters chosen: {'C': 10.0}\n",
      "\n",
      "::: Evaluating classifier...\n",
      "Cross-validated F1 score:         0.716 +/- 0.031.\n",
      "Cross-validated precision score:  0.676 +/- 0.030.\n",
      "Cross-validated recall score:     0.761 +/- 0.035.\n",
      "Cross-validated accuracy score:   0.653 +/- 0.037.\n",
      "\n",
      "-------------- Executing CV fold 5 --------------\n",
      "\n",
      "::: Performing feature selection...\n",
      "\n",
      "::: Tuning hyperparameters...\n",
      "Parameters chosen: {'C': 0.01}\n",
      "\n",
      "::: Evaluating classifier...\n",
      "Cross-validated F1 score:         0.706 +/- 0.037.\n",
      "Cross-validated precision score:  0.677 +/- 0.039.\n",
      "Cross-validated recall score:     0.739 +/- 0.045.\n",
      "Cross-validated accuracy score:   0.650 +/- 0.046.\n",
      "\n",
      "-------------- Executing CV fold 6 --------------\n",
      "\n",
      "::: Performing feature selection...\n",
      "\n",
      "::: Tuning hyperparameters...\n",
      "Parameters chosen: {'C': 0.01}\n",
      "\n",
      "::: Evaluating classifier...\n",
      "Cross-validated F1 score:         0.741 +/- 0.023.\n",
      "Cross-validated precision score:  0.698 +/- 0.024.\n",
      "Cross-validated recall score:     0.790 +/- 0.034.\n",
      "Cross-validated accuracy score:   0.679 +/- 0.029.\n",
      "\n",
      "-------------- Executing CV fold 7 --------------\n",
      "\n",
      "::: Performing feature selection...\n",
      "\n",
      "::: Tuning hyperparameters...\n",
      "Parameters chosen: {'C': 10.0}\n",
      "\n",
      "::: Evaluating classifier...\n",
      "Cross-validated F1 score:         0.707 +/- 0.034.\n",
      "Cross-validated precision score:  0.679 +/- 0.023.\n",
      "Cross-validated recall score:     0.740 +/- 0.048.\n",
      "Cross-validated accuracy score:   0.652 +/- 0.034.\n",
      "\n",
      "-------------- Executing CV fold 8 --------------\n",
      "\n",
      "::: Performing feature selection...\n",
      "\n",
      "::: Tuning hyperparameters...\n",
      "Parameters chosen: {'C': 0.01}\n",
      "\n",
      "::: Evaluating classifier...\n",
      "Cross-validated F1 score:         0.716 +/- 0.025.\n",
      "Cross-validated precision score:  0.675 +/- 0.025.\n",
      "Cross-validated recall score:     0.764 +/- 0.037.\n",
      "Cross-validated accuracy score:   0.658 +/- 0.028.\n",
      "\n",
      "-------------- Executing CV fold 9 --------------\n",
      "\n",
      "::: Performing feature selection...\n",
      "\n",
      "::: Tuning hyperparameters...\n",
      "Parameters chosen: {'C': 1.0}\n",
      "\n",
      "::: Evaluating classifier...\n",
      "Cross-validated F1 score:         0.736 +/- 0.021.\n",
      "Cross-validated precision score:  0.689 +/- 0.013.\n",
      "Cross-validated recall score:     0.791 +/- 0.041.\n",
      "Cross-validated accuracy score:   0.669 +/- 0.021.\n",
      "\n",
      "-------------- Executing CV fold 10 --------------\n",
      "\n",
      "::: Performing feature selection...\n",
      "\n",
      "::: Tuning hyperparameters...\n",
      "Parameters chosen: {'C': 10.0}\n",
      "\n",
      "::: Evaluating classifier...\n",
      "Cross-validated F1 score:         0.733 +/- 0.021.\n",
      "Cross-validated precision score:  0.687 +/- 0.031.\n",
      "Cross-validated recall score:     0.787 +/- 0.019.\n",
      "Cross-validated accuracy score:   0.667 +/- 0.031.\n",
      "############## MODEL CROSS VAL SCORE ##############\n",
      "Cross validated model f1: 0.72107 +/- 0.08491\n"
     ]
    }
   ],
   "source": [
    "# Cross validation strategy: use stratified to maintain class balance\n",
    "cv_ss = ShuffleSplit(n_splits=10, test_size=0.3, random_state=7)\n",
    "\n",
    "# Reset indexes for slicing to work\n",
    "X_train.reset_index(drop=True, inplace=True)\n",
    "y_train.reset_index(drop=True, inplace=True)\n",
    "\n",
    "# Perform both feature selection and model selection in cross validation loop\n",
    "results = []\n",
    "for train_idx, cv_idx in cv_ss.split(X_train, y_train):\n",
    "    print '\\n-------------- Executing CV fold {} --------------'.format(len(results)+1)\n",
    "    \n",
    "    # Cross validation for inner loops\n",
    "    cv = StratifiedKFold(n_splits=10)\n",
    "\n",
    "    \n",
    "    # If using oversampling, inject held out oversampled cv data\n",
    "    X_cv = pd.concat([X_train.loc[cv_idx], X_minority_cv.sample(frac=0.25)])\n",
    "    y_cv = pd.concat([y_train.loc[cv_idx], y_minority_cv.sample(frac=0.25)])\n",
    "    if debug:\n",
    "        print 'INFO: \"0\":\"1\" ratio in train set: {}:{}'.format(\n",
    "            len(y_train.loc[train_idx])-sum(y_train.loc[train_idx]), \n",
    "            len(y_train.loc[train_idx])\n",
    "            )\n",
    "        print 'INFO: \"0\":\"1\" ratio in CV set:    {}:{}'.format(\n",
    "            len(y_cv)-sum(y_cv), len(y_cv)\n",
    "            )\n",
    "\n",
    "    # Find best features for fold\n",
    "    print '\\n::: Performing feature selection...'\n",
    "    features = feature_selection_RFE(X_train.loc[train_idx],\n",
    "                                     y_train.loc[train_idx], \n",
    "                                     cv, \n",
    "                                     debug\n",
    "                                    )\n",
    "    \n",
    "    # Find best classifier hyperparameters for fold\n",
    "    print '\\n::: Tuning hyperparameters...'\n",
    "    clf, param_c = tune_hyperparams(X_train[features].loc[train_idx], \n",
    "                           y_train.loc[train_idx], \n",
    "                           cv, \n",
    "                           debug\n",
    "                          )\n",
    "    \n",
    "    # Evaluate tuned classifier performance on the held-out data\n",
    "    print '\\n::: Evaluating classifier...'\n",
    "    fold_f1_score, fold_f1_var = evaluate_classifier(clf,\n",
    "                                                     X_cv[features],\n",
    "                                                     y_cv,\n",
    "                                                     cv=cv,\n",
    "                                                     debug=False\n",
    "                                                    )\n",
    "\n",
    "    # Append fold's score to list of scores\n",
    "    results.append([features, param_c, fold_f1_score, fold_f1_var])\n",
    "\n",
    "print '############## MODEL CROSS VAL SCORE ##############'\n",
    "f1_lr = np.array([l[2] for l in results]).mean()\n",
    "std_lr = np.sqrt(sum([l[3] for l in results])) # VAR_x = VAR_y + VAR_z\n",
    "print 'Cross validated model f1: {:.5f} +/- {:.5f}'.format(f1_lr, std_lr)"
   ]
  },
  {
   "cell_type": "markdown",
   "metadata": {},
   "source": [
    "## Model evaluation using full training set\n",
    "A model is now created using the full training set, evaluated on the held out test data. The model development above has guided design parameters of the pipeline through use of the cross-validation score, so the model is now able to use the best features and best regularisation term ('C') to evaluate entirely new data to a similar performance. "
   ]
  },
  {
   "cell_type": "code",
   "execution_count": 19,
   "metadata": {
    "collapsed": false
   },
   "outputs": [],
   "source": [
    "# Find the best features and parameters from CV\n",
    "f1_scores = [r[2] for r in results]\n",
    "best_run = results[f1_scores.index(max(f1_scores))]\n",
    "best_features, best_c = best_run[0], best_run[1] "
   ]
  },
  {
   "cell_type": "code",
   "execution_count": 16,
   "metadata": {
    "collapsed": false
   },
   "outputs": [
    {
     "name": "stdout",
     "output_type": "stream",
     "text": [
      "\n",
      "::: Training classifier...\n",
      "\n",
      "::: Evaluating classifier...\n",
      "Cross-validated F1 score:         0.671 +/- 0.074.\n",
      "Cross-validated precision score:  0.685 +/- 0.078.\n",
      "Cross-validated recall score:     0.663 +/- 0.095.\n",
      "Cross-validated accuracy score:   0.678 +/- 0.068.\n",
      ":: Plotting ROC curve\n"
     ]
    },
    {
     "data": {
      "image/png": "[encoded data removed]",
      "text/plain": [
       "<matplotlib.figure.Figure at 0xae2f780>"
      ]
     },
     "metadata": {},
     "output_type": "display_data"
    },
    {
     "name": "stdout",
     "output_type": "stream",
     "text": [
      "ROC area under curve: 0.73\n",
      ":: Plotting learning curve...\n"
     ]
    },
    {
     "data": {
      "image/png": "[encoded data removed]",
      "text/plain": [
       "<matplotlib.figure.Figure at 0x1162b400>"
      ]
     },
     "metadata": {},
     "output_type": "display_data"
    },
    {
     "name": "stdout",
     "output_type": "stream",
     "text": [
      ":: Plotting confusion matrix...\n"
     ]
    },
    {
     "data": {
      "image/png": "[encoded data removed]",
      "text/plain": [
       "<matplotlib.figure.Figure at 0xad9f048>"
      ]
     },
     "metadata": {},
     "output_type": "display_data"
    }
   ],
   "source": [
    "# Try on held out TEST data\n",
    "cv = StratifiedKFold(n_splits=50)\n",
    "\n",
    "# Removed - use parameters from best cross validation run\n",
    "#print '\\n::: Performing feature selection...'\n",
    "#features = feature_selection_RFE(X_train, y_train, cv, debug=True)\n",
    "\n",
    "print '\\n::: Training classifier...'\n",
    "clf = LogisticRegression(C=best_c['C'], random_state=18)\n",
    "clf.fit(X_train[best_features], y_train)\n",
    "\n",
    "print '\\n::: Evaluating classifier...'\n",
    "fold_f1_score, fold_f1_var = evaluate_classifier(clf, X_test[best_features],\n",
    "                                                 y_test, cv=cv,\n",
    "                                                 debug=True\n",
    "                                                )"
   ]
  },
  {
   "cell_type": "markdown",
   "metadata": {},
   "source": [
    "## Outputs\n",
    "Model outputs depend on the user's requirements. Currently, the outputs are available through clf.predict(X_test, y_test).\n",
    "* The 'predict proba' method of the classifier can be used to output the probability that the borrower is expected to default.\n",
    "* The results can be placed into a .csv file.\n",
    "* The results can be fed to other systems.\n",
    "* Etc."
   ]
  },
  {
   "cell_type": "code",
   "execution_count": 17,
   "metadata": {
    "collapsed": false
   },
   "outputs": [],
   "source": [
    "probabilities = clf.predict_proba(X_test[best_features])[:,1]\n",
    "# Outputs to be decided"
   ]
  },
  {
   "cell_type": "markdown",
   "metadata": {},
   "source": [
    "#### Feature importances"
   ]
  },
  {
   "cell_type": "code",
   "execution_count": 18,
   "metadata": {
    "collapsed": false
   },
   "outputs": [
    {
     "name": "stdout",
     "output_type": "stream",
     "text": [
      "Features used, in order of importance: \n",
      "\n",
      "FICO Credit Score :  -0.409\n",
      "Loan Term :  0.392\n",
      "Annual Income :  -0.322\n",
      "Loan Purpose Small Business :  0.252\n",
      "No. Inquiries In Last 6 Months :  0.228\n",
      "Loan Amount :  0.137\n",
      "Loan Purpose Credit Card :  -0.121\n",
      "Debt To Income Ratio :  0.115\n",
      "Credit Line Pc Remaining :  -0.114\n",
      "Total Credit Balance :  0.102\n",
      "Adverse Event? :  0.093\n",
      "Loan Purpose Medical :  0.092\n",
      "Loan Purpose Other :  0.091\n",
      "Address State WY :  -0.09\n",
      "Loan Purpose Renewable Energy :  0.088\n",
      "Address State NE :  0.086\n",
      "Address State NY :  -0.083\n",
      "Address State MI :  -0.083\n",
      "Loan Application Description 800 < x < 900 :  -0.08\n",
      "Earliest Credit Line Opened :  -0.08\n",
      "Loan Application Description 700 < x < 800 :  -0.072\n",
      "Loan Purpose Car :  -0.064\n",
      "Months Since Last Delinquency 12< x < 60 :  -0.059\n",
      "Loan Purpose Home Improvement :  0.059\n",
      "Address State NV :  0.058\n",
      "Address State VA :  -0.058\n",
      "No. Of Credit Lines :  -0.055\n",
      "Employment Length 9 :  -0.054\n",
      "Months Since Last Delinquency 6 < x < 12 :  -0.054\n",
      "Address State PA :  -0.051\n",
      "Employment Length 7 :  0.047\n",
      "Loan Purpose Wedding :  0.046\n",
      "Address State IL :  -0.045\n",
      "Address State TX :  -0.045\n",
      "Address State MO :  -0.044\n",
      "Address State OH :  -0.043\n",
      "Loan Application Description 600 < x < 700 :  -0.04\n",
      "Address State ME :  -0.037\n",
      "Address State MT :  -0.036\n",
      "Address State AK :  -0.035\n",
      "Address State NH :  0.032\n",
      "Address State IA :  -0.03\n",
      "Address State MS :  -0.027\n",
      "Address State CT :  -0.019\n",
      "Address State TN :  -0.018\n"
     ]
    }
   ],
   "source": [
    "def get_key_abs(item):\n",
    "    return abs(item[1])\n",
    "\n",
    "feat_list = zip(X_test[best_features].columns, clf.coef_[0])\n",
    "print 'Features used, in order of importance: \\n'\n",
    "for item in sorted(feat_list, key=get_key_abs, reverse=True):\n",
    "    print item[0], ': ', round(item[1],3)"
   ]
  },
  {
   "cell_type": "markdown",
   "metadata": {},
   "source": [
    "## Future expansion\n",
    "\n",
    "### Addressing bias and variance\n",
    "The model has fairly low variance, but does suffers from moderately high bias. Whilst obtaining more of the same data is always helpful, the effect of more data on reducing bias is minimal - instead, one could try increasing model complexity. This can be done by either:\n",
    "#### Adding conjugate features\n",
    "Combinations of features allow the linear model to see a new dimension, increasing model complexity and potentially reducing bias. However, model run time is likely to scale similarly.\n",
    "#### Collecting more relevant data\n",
    "Further features, such as personality traits determined from social media records, could be used to assist the model in getting a better picture of the applicant and situation.\n",
    "\n",
    "### Using a weighted scoring mechanism\n",
    "If detection of uncreditworthy applicants is more important than incorrectly labelling applicants as uncreditworthy when they were in fact not, then a weighted scoring mechanism could be used to guide the model. For example, F_beta scoring where beta > 1.\n",
    "\n",
    "### Dimensionality reduction\n",
    "Principal component analysis or factor analysis could be used to reduce the number of features further, by combining correlated features to create new features. However, this makes the model considerably more complicated to describe as the original features become unrecognisable. Given that this model will be used to evaluate creditworthiness it should, ideally, possess excellent transparency. As such, PCA has not been added, but could be used if increased performance was desired.\n",
    "\n",
    "### Intelligent oversampling\n",
    "The current sampling system is 'dumb', taking a proportion of the records and duplicating them (injecting them back only during cross validation as not to introduce a data leak). This could be improved by creating *similar*, rather than *duplicate* data. A useful technique to consider is SMOTE.\n",
    "\n",
    "### Use of a more sophisticated classifier\n",
    "Logistic regression is an excellent classifer, balancing performance, transparency, training time and ease of implementation. However, many other techniques are available with different advantages and disadvantages. Support Vector Machines, for example, use a different mechanism ('large margin') to separate classes, and can learn highly non-linear relationships leading to increased performance at increased difficulty and reduced transparency.\n",
    "\n",
    "### Ensembling\n",
    "Classifiers can be combined (or 'ensembled') to exhibit performance better than the sum of their parts - many reasonable learners can be combined to form an excellent classifier. Whilst difficult to put into production, the performance gains can be significant.\n",
    "\n",
    "### Reframing the problem as *anomaly detection*\n",
    "Instead of using a classifier to separate classes, the problem could be reframed as a clustering problem. This may be useful if future default rates are very low."
   ]
  }
 ],
 "metadata": {
  "kernelspec": {
   "display_name": "Python 2",
   "language": "python",
   "name": "python2"
  },
  "language_info": {
   "codemirror_mode": {
    "name": "ipython",
    "version": 2
   },
   "file_extension": ".py",
   "mimetype": "text/x-python",
   "name": "python",
   "nbconvert_exporter": "python",
   "pygments_lexer": "ipython2",
   "version": "2.7.11"
  }
 },
 "nbformat": 4,
 "nbformat_minor": 0
}
